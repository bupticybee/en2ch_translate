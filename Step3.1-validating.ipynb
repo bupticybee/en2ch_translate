{
 "cells": [
  {
   "cell_type": "markdown",
   "metadata": {},
   "source": [
    "# validating bleu"
   ]
  },
  {
   "cell_type": "code",
   "execution_count": 36,
   "metadata": {
    "collapsed": true
   },
   "outputs": [],
   "source": [
    "predicts = []\n",
    "with open('eval/OOVSUB-20kword/5_77342_predict',encoding='utf-8') as fhdl:\n",
    "    for line in fhdl:\n",
    "        linesp = line.strip().split(' ')\n",
    "        sentence = []\n",
    "        for word in linesp:\n",
    "            if word == '<eos>':\n",
    "                break\n",
    "            sentence.append(word)\n",
    "        sentence = ''.join(sentence)\n",
    "        predicts.append(sentence)"
   ]
  },
  {
   "cell_type": "code",
   "execution_count": 37,
   "metadata": {
    "collapsed": true
   },
   "outputs": [],
   "source": [
    "targets = []\n",
    "with open('eval/OOVSUB-20kword/5_77342_target',encoding='utf-8') as fhdl:\n",
    "    for line in fhdl:\n",
    "        linesp = line.strip().split(' ')\n",
    "        sentence = []\n",
    "        for word in linesp:\n",
    "            if word == '<eos>':\n",
    "                break\n",
    "            sentence.append(word)\n",
    "        sentence = ''.join(sentence)\n",
    "        targets.append(sentence)"
   ]
  },
  {
   "cell_type": "code",
   "execution_count": 38,
   "metadata": {
    "collapsed": true
   },
   "outputs": [],
   "source": [
    "import nltk\n",
    "def get_bleu_score(predict,target):\n",
    "    target = [[[j for index,j in enumerate(i)]] for i in target]\n",
    "    predict = [[j for index,j in enumerate(i)] for i in predict]\n",
    "    BLEUscore = nltk.translate.bleu_score.corpus_bleu(target,predict)\n",
    "    return BLEUscore"
   ]
  },
  {
   "cell_type": "code",
   "execution_count": 39,
   "metadata": {
    "collapsed": true
   },
   "outputs": [],
   "source": [
    "predicts_tmp,targets_tmp  = [],[]\n",
    "for i ,j in zip(predicts,targets):\n",
    "    if len(i) >= 4 and len(j) > 4:\n",
    "        predicts_tmp.append(i)\n",
    "        targets_tmp.append(j)"
   ]
  },
  {
   "cell_type": "code",
   "execution_count": 40,
   "metadata": {},
   "outputs": [
    {
     "data": {
      "text/plain": [
       "0.24325742931395575"
      ]
     },
     "execution_count": 40,
     "metadata": {},
     "output_type": "execute_result"
    }
   ],
   "source": [
    "get_bleu_score(predicts_tmp,targets_tmp)"
   ]
  },
  {
   "cell_type": "markdown",
   "metadata": {},
   "source": [
    "# tensorboard of my own"
   ]
  },
  {
   "cell_type": "code",
   "execution_count": 48,
   "metadata": {
    "collapsed": true
   },
   "outputs": [],
   "source": [
    "train_prefix = 'val/OOVSUB_6layer/'"
   ]
  },
  {
   "cell_type": "code",
   "execution_count": 49,
   "metadata": {
    "collapsed": true
   },
   "outputs": [],
   "source": [
    "import os\n",
    "train_loss_file = os.path.join(train_prefix,'train_loss.txt')\n",
    "test_loss_file = os.path.join(train_prefix,'test_loss.txt')"
   ]
  },
  {
   "cell_type": "code",
   "execution_count": 50,
   "metadata": {
    "collapsed": true
   },
   "outputs": [],
   "source": [
    "train_losses = []\n",
    "train_steps = []\n",
    "\n",
    "lossdic = {}\n",
    "\n",
    "alpha = 0.999\n",
    "exp_loss = None\n",
    "max_epoch = 1\n",
    "max_batch = 0\n",
    "with open(train_loss_file) as fhdl:\n",
    "    for line in fhdl:\n",
    "        linesp = line.strip().split('\\t')\n",
    "        epoch,batch,loss = linesp\n",
    "        epoch,batch,loss = int(epoch),int(batch),float(loss)\n",
    "        max_epoch,max_batch = max(max_epoch,epoch),max(max_batch,batch)\n",
    "        exp_loss = loss if exp_loss == None else alpha * exp_loss + (1 - alpha) * loss\n",
    "        lossdic[\"{} {}\".format(epoch,batch)] = exp_loss\n",
    "        "
   ]
  },
  {
   "cell_type": "code",
   "execution_count": 51,
   "metadata": {},
   "outputs": [
    {
     "data": {
      "text/plain": [
       "(2, 154686)"
      ]
     },
     "execution_count": 51,
     "metadata": {},
     "output_type": "execute_result"
    }
   ],
   "source": [
    "max_epoch,max_batch"
   ]
  },
  {
   "cell_type": "code",
   "execution_count": 52,
   "metadata": {
    "collapsed": true
   },
   "outputs": [],
   "source": [
    "num = 0\n",
    "losses = []\n",
    "steps = []\n",
    "for i in range(1,max_epoch + 1):\n",
    "    for j in range(0,max_batch + 1):\n",
    "        num += 1\n",
    "        key = \"{} {}\".format(i,j)\n",
    "        if key not in lossdic:\n",
    "            break\n",
    "        losses.append(lossdic[key])\n",
    "        steps.append(num)"
   ]
  },
  {
   "cell_type": "code",
   "execution_count": 53,
   "metadata": {
    "collapsed": true
   },
   "outputs": [],
   "source": [
    "from matplotlib import pyplot as plt\n",
    "%matplotlib inline\n",
    "import pandas as pd"
   ]
  },
  {
   "cell_type": "code",
   "execution_count": 54,
   "metadata": {
    "collapsed": true
   },
   "outputs": [],
   "source": [
    "plt.style.use('ggplot')"
   ]
  },
  {
   "cell_type": "code",
   "execution_count": 55,
   "metadata": {
    "scrolled": false
   },
   "outputs": [
    {
     "data": {
      "text/plain": [
       "[<matplotlib.lines.Line2D at 0x16197cc6780>]"
      ]
     },
     "execution_count": 55,
     "metadata": {},
     "output_type": "execute_result"
    },
    {
     "data": {
      "image/png": "[encoded data removed]",
      "text/plain": [
       "<matplotlib.figure.Figure at 0x16198d59a90>"
      ]
     },
     "metadata": {},
     "output_type": "display_data"
    }
   ],
   "source": [
    "plt.plot(steps[:],losses[:])"
   ]
  },
  {
   "cell_type": "code",
   "execution_count": null,
   "metadata": {
    "collapsed": true
   },
   "outputs": [],
   "source": []
  }
 ],
 "metadata": {
  "anaconda-cloud": {},
  "kernelspec": {
   "display_name": "Python [conda root]",
   "language": "python",
   "name": "conda-root-py"
  },
  "language_info": {
   "codemirror_mode": {
    "name": "ipython",
    "version": 3
   },
   "file_extension": ".py",
   "mimetype": "text/x-python",
   "name": "python",
   "nbconvert_exporter": "python",
   "pygments_lexer": "ipython3",
   "version": "3.5.2"
  }
 },
 "nbformat": 4,
 "nbformat_minor": 1
}
